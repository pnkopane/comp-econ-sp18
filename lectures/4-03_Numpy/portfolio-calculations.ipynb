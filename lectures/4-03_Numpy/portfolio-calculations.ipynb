{
 "cells": [
  {
   "cell_type": "markdown",
   "metadata": {},
   "source": [
    "In this notebook, we will practice some calculations of portfolio returns. This will give us some practice using Numpy arrays and plotting with Matplotlib."
   ]
  },
  {
   "cell_type": "code",
   "execution_count": 3,
   "metadata": {},
   "outputs": [],
   "source": [
    "# always import all necessary libraries at the top of the file\n",
    "import numpy as np\n",
    "from matplotlib import pyplot as plt\n",
    "import pandas as pd"
   ]
  },
  {
   "cell_type": "markdown",
   "metadata": {},
   "source": [
    "# Data\n",
    "\n",
    "We'll begin by loading data from the file `dataPort.csv`. This contains a matrix of prices, each row corresponding to a day. The columns, in order from left to right, correspond to the S&P 500 index, crude oil index, and the U.S. 10-year Treasury index."
   ]
  },
  {
   "cell_type": "code",
   "execution_count": 6,
   "metadata": {},
   "outputs": [],
   "source": [
    "data_port = pd.read_csv('./dataPort.csv', parse_dates=['date'])"
   ]
  },
  {
   "cell_type": "code",
   "execution_count": 7,
   "metadata": {},
   "outputs": [
    {
     "data": {
      "text/plain": [
       "date             datetime64[ns]\n",
       "sp500                   float64\n",
       "crude_oil               float64\n",
       "treasury_10yr           float64\n",
       "dtype: object"
      ]
     },
     "execution_count": 7,
     "metadata": {},
     "output_type": "execute_result"
    }
   ],
   "source": [
    "data_port.dtypes"
   ]
  },
  {
   "cell_type": "code",
   "execution_count": 8,
   "metadata": {},
   "outputs": [
    {
     "data": {
      "text/html": [
       "<div>\n",
       "<style scoped>\n",
       "    .dataframe tbody tr th:only-of-type {\n",
       "        vertical-align: middle;\n",
       "    }\n",
       "\n",
       "    .dataframe tbody tr th {\n",
       "        vertical-align: top;\n",
       "    }\n",
       "\n",
       "    .dataframe thead th {\n",
       "        text-align: right;\n",
       "    }\n",
       "</style>\n",
       "<table border=\"1\" class=\"dataframe\">\n",
       "  <thead>\n",
       "    <tr style=\"text-align: right;\">\n",
       "      <th></th>\n",
       "      <th>date</th>\n",
       "      <th>sp500</th>\n",
       "      <th>crude_oil</th>\n",
       "      <th>treasury_10yr</th>\n",
       "    </tr>\n",
       "  </thead>\n",
       "  <tbody>\n",
       "    <tr>\n",
       "      <th>0</th>\n",
       "      <td>2013-08-29</td>\n",
       "      <td>1638.17</td>\n",
       "      <td>87.26</td>\n",
       "      <td>2.7617</td>\n",
       "    </tr>\n",
       "    <tr>\n",
       "      <th>1</th>\n",
       "      <td>2013-08-30</td>\n",
       "      <td>1632.97</td>\n",
       "      <td>87.50</td>\n",
       "      <td>2.7839</td>\n",
       "    </tr>\n",
       "    <tr>\n",
       "      <th>2</th>\n",
       "      <td>2013-09-03</td>\n",
       "      <td>1639.77</td>\n",
       "      <td>87.76</td>\n",
       "      <td>2.8576</td>\n",
       "    </tr>\n",
       "    <tr>\n",
       "      <th>3</th>\n",
       "      <td>2013-09-04</td>\n",
       "      <td>1653.08</td>\n",
       "      <td>87.78</td>\n",
       "      <td>2.8966</td>\n",
       "    </tr>\n",
       "    <tr>\n",
       "      <th>4</th>\n",
       "      <td>2013-09-05</td>\n",
       "      <td>1655.08</td>\n",
       "      <td>87.94</td>\n",
       "      <td>2.9937</td>\n",
       "    </tr>\n",
       "  </tbody>\n",
       "</table>\n",
       "</div>"
      ],
      "text/plain": [
       "        date    sp500  crude_oil  treasury_10yr\n",
       "0 2013-08-29  1638.17      87.26         2.7617\n",
       "1 2013-08-30  1632.97      87.50         2.7839\n",
       "2 2013-09-03  1639.77      87.76         2.8576\n",
       "3 2013-09-04  1653.08      87.78         2.8966\n",
       "4 2013-09-05  1655.08      87.94         2.9937"
      ]
     },
     "execution_count": 8,
     "metadata": {},
     "output_type": "execute_result"
    }
   ],
   "source": [
    "data_port.head()"
   ]
  },
  {
   "cell_type": "code",
   "execution_count": 9,
   "metadata": {},
   "outputs": [
    {
     "data": {
      "text/html": [
       "<div>\n",
       "<style scoped>\n",
       "    .dataframe tbody tr th:only-of-type {\n",
       "        vertical-align: middle;\n",
       "    }\n",
       "\n",
       "    .dataframe tbody tr th {\n",
       "        vertical-align: top;\n",
       "    }\n",
       "\n",
       "    .dataframe thead th {\n",
       "        text-align: right;\n",
       "    }\n",
       "</style>\n",
       "<table border=\"1\" class=\"dataframe\">\n",
       "  <thead>\n",
       "    <tr style=\"text-align: right;\">\n",
       "      <th></th>\n",
       "      <th>date</th>\n",
       "      <th>sp500</th>\n",
       "      <th>crude_oil</th>\n",
       "      <th>treasury_10yr</th>\n",
       "    </tr>\n",
       "  </thead>\n",
       "  <tbody>\n",
       "    <tr>\n",
       "      <th>495</th>\n",
       "      <td>2015-09-03</td>\n",
       "      <td>1951.13</td>\n",
       "      <td>46.75</td>\n",
       "      <td>2.1596</td>\n",
       "    </tr>\n",
       "    <tr>\n",
       "      <th>496</th>\n",
       "      <td>2015-09-04</td>\n",
       "      <td>1921.22</td>\n",
       "      <td>46.05</td>\n",
       "      <td>2.1244</td>\n",
       "    </tr>\n",
       "    <tr>\n",
       "      <th>497</th>\n",
       "      <td>2015-09-08</td>\n",
       "      <td>1969.41</td>\n",
       "      <td>45.94</td>\n",
       "      <td>2.1828</td>\n",
       "    </tr>\n",
       "    <tr>\n",
       "      <th>498</th>\n",
       "      <td>2015-09-09</td>\n",
       "      <td>1942.04</td>\n",
       "      <td>44.15</td>\n",
       "      <td>2.2006</td>\n",
       "    </tr>\n",
       "    <tr>\n",
       "      <th>499</th>\n",
       "      <td>2015-09-10</td>\n",
       "      <td>1952.29</td>\n",
       "      <td>45.92</td>\n",
       "      <td>2.2220</td>\n",
       "    </tr>\n",
       "  </tbody>\n",
       "</table>\n",
       "</div>"
      ],
      "text/plain": [
       "          date    sp500  crude_oil  treasury_10yr\n",
       "495 2015-09-03  1951.13      46.75         2.1596\n",
       "496 2015-09-04  1921.22      46.05         2.1244\n",
       "497 2015-09-08  1969.41      45.94         2.1828\n",
       "498 2015-09-09  1942.04      44.15         2.2006\n",
       "499 2015-09-10  1952.29      45.92         2.2220"
      ]
     },
     "execution_count": 9,
     "metadata": {},
     "output_type": "execute_result"
    }
   ],
   "source": [
    "data_port.tail()"
   ]
  },
  {
   "cell_type": "code",
   "execution_count": 11,
   "metadata": {},
   "outputs": [],
   "source": [
    "# Don't worry about the Pandas details here\n",
    "prices = data_port.iloc[:,1:].values"
   ]
  },
  {
   "cell_type": "code",
   "execution_count": 12,
   "metadata": {},
   "outputs": [
    {
     "data": {
      "text/plain": [
       "array([[1638.17  ,   87.26  ,    2.7617],\n",
       "       [1632.97  ,   87.5   ,    2.7839],\n",
       "       [1639.77  ,   87.76  ,    2.8576],\n",
       "       ...,\n",
       "       [1969.41  ,   45.94  ,    2.1828],\n",
       "       [1942.04  ,   44.15  ,    2.2006],\n",
       "       [1952.29  ,   45.92  ,    2.222 ]])"
      ]
     },
     "execution_count": 12,
     "metadata": {},
     "output_type": "execute_result"
    }
   ],
   "source": [
    "prices"
   ]
  },
  {
   "cell_type": "code",
   "execution_count": 13,
   "metadata": {},
   "outputs": [
    {
     "data": {
      "text/plain": [
       "numpy.ndarray"
      ]
     },
     "execution_count": 13,
     "metadata": {},
     "output_type": "execute_result"
    }
   ],
   "source": [
    "type(prices)"
   ]
  },
  {
   "cell_type": "code",
   "execution_count": 14,
   "metadata": {},
   "outputs": [
    {
     "data": {
      "text/plain": [
       "array(['2013-08-29T00:00:00.000000000', '2013-08-30T00:00:00.000000000',\n",
       "       '2013-09-03T00:00:00.000000000', '2013-09-04T00:00:00.000000000',\n",
       "       '2013-09-05T00:00:00.000000000', '2013-09-06T00:00:00.000000000',\n",
       "       '2013-09-09T00:00:00.000000000', '2013-09-10T00:00:00.000000000',\n",
       "       '2013-09-11T00:00:00.000000000', '2013-09-12T00:00:00.000000000'],\n",
       "      dtype='datetime64[ns]')"
      ]
     },
     "execution_count": 14,
     "metadata": {},
     "output_type": "execute_result"
    }
   ],
   "source": [
    "dates = data_port.iloc[:,0].values\n",
    "dates[0:10]"
   ]
  },
  {
   "cell_type": "markdown",
   "metadata": {},
   "source": [
    "# Data Manipulation\n",
    " Create 3 column vectors---each containing the price history of one of the asset classes. Name the vectors `sp500`, `oil`, `bonds`."
   ]
  },
  {
   "cell_type": "code",
   "execution_count": 44,
   "metadata": {},
   "outputs": [
    {
     "name": "stdout",
     "output_type": "stream",
     "text": [
      "[1638.17 1632.97 1639.77 1653.08 1655.08 1655.17 1671.71 1683.99 1689.13\n",
      " 1683.42 1687.99 1697.6  1704.76 1725.52 1722.34 1709.91 1701.84 1697.42\n",
      " 1692.77 1698.67 1691.75 1681.55 1695.   1693.87 1678.66 1690.5  1676.12\n",
      " 1655.45 1656.4  1692.56 1703.2  1698.06 1721.54 1733.15 1744.5  1744.66\n",
      " 1754.67 1746.38 1752.07 1759.77 1762.11 1771.95 1763.31 1756.54 1761.64\n",
      " 1767.93 1762.97 1770.49 1770.61 1767.69 1782.   1790.62 1798.18 1791.53\n",
      " 1787.87 1781.37 1795.85 1804.76 1802.48 1802.75 1807.23 1805.81 1800.9\n",
      " 1795.15 1792.81 1785.03 1805.09 1808.37 1802.62 1782.22 1775.5  1775.32\n",
      " 1786.54 1810.65 1809.6  1818.32 1827.99 1833.32 1842.02 1841.4  1841.07\n",
      " 1848.36 1831.98 1831.37 1826.77 1837.88 1837.49 1838.13 1842.37 1819.2\n",
      " 1838.88 1848.38 1845.89 1838.7  1843.8  1844.86 1828.46 1790.29 1781.56\n",
      " 1792.5  1774.2  1794.19 1782.59 1741.89 1755.2  1751.64 1773.43 1797.02\n",
      " 1799.84 1819.75 1819.26 1829.83 1838.63 1840.76 1828.75 1839.78 1836.25\n",
      " 1847.61 1845.12 1845.16 1854.29 1859.45 1845.73 1873.91 1873.81 1877.03\n",
      " 1878.04 1877.17 1867.63 1868.2  1846.34 1841.13 1858.83 1872.25 1860.77\n",
      " 1872.01 1866.52 1857.44 1865.62 1852.56 1849.04 1857.62 1872.34 1885.52\n",
      " 1890.9  1888.77 1865.09 1845.04 1851.96 1872.18 1833.08 1815.69 1830.61\n",
      " 1842.98 1862.31 1864.85 1871.89 1879.55 1875.39 1878.61 1863.4  1869.43\n",
      " 1878.33 1883.95 1883.68 1881.14 1884.66 1867.72 1878.21 1875.63 1878.48\n",
      " 1896.65 1897.45 1888.53 1870.85 1877.86 1872.83 1888.03 1892.49 1900.53\n",
      " 1911.91 1909.78 1920.03 1923.57 1924.97 1924.24 1927.88 1940.46 1949.44\n",
      " 1951.27 1950.79 1943.89 1930.11 1936.16 1937.78 1941.99 1956.98 1959.48\n",
      " 1962.87 1962.61 1949.98 1959.53 1957.22 1960.96 1973.32 1974.62 1985.44\n",
      " 1977.65 1963.71 1972.83 1964.68 1967.57 1977.1  1981.57 1958.12 1978.22\n",
      " 1973.63 1983.53 1987.01 1987.98 1978.34 1978.91 1969.95 1970.07 1930.67\n",
      " 1925.15 1938.99 1920.21 1920.24 1909.57 1931.59 1936.92 1933.75 1946.72\n",
      " 1955.18 1955.06 1971.74 1981.6  1986.51 1992.37 1988.4  1997.92 2000.02\n",
      " 2000.12 1996.74 2003.37 2002.28 2000.72 1997.65 2007.71 2001.54 1988.44\n",
      " 1995.69 1997.45 1985.54 1984.13 1998.98 2001.57 2011.36 1994.29 1982.77\n",
      " 1998.3  1965.99 1982.85 1977.8  1972.29 1946.16 1946.17 1967.9  1964.82\n",
      " 1935.1  1968.89 1928.21 1906.13 1877.7  1862.49 1862.76 1886.76 1904.01\n",
      " 1941.28 1927.11 1950.82 1964.58 1961.63 1985.05 1982.3  1994.65 2018.05\n",
      " 2017.81 2012.1  2023.57 2031.21 2031.92 2038.26 2038.25 2039.33 2039.82\n",
      " 2041.32 2051.8  2048.72 2052.75 2063.5  2069.41 2067.03 2072.83 2067.56\n",
      " 2053.44 2066.55 2074.33 2071.92 2075.37 2060.31 2059.82 2026.14 2035.33\n",
      " 2002.33 1989.63 1972.74 2012.89 2061.23 2070.65 2078.54 2082.17 2081.88\n",
      " 2088.77 2090.57 2080.35 2058.9  2058.2  2020.58 2002.61 2025.9  2062.14\n",
      " 2044.81 2028.26 2023.03 2011.27 1992.67 2019.42 2022.55 2032.12 2063.15\n",
      " 2051.82 2057.09 2029.55 2002.16 2021.25 1994.99 2020.85 2050.03 2041.51\n",
      " 2062.52 2055.47 2046.74 2068.59 2068.53 2088.48 2096.99 2100.34 2099.68\n",
      " 2097.45 2110.3  2109.66 2115.48 2113.86 2110.74 2104.5  2117.39 2107.78\n",
      " 2098.53 2101.04 2071.26 2079.43 2044.16 2040.24 2065.95 2053.4  2081.19\n",
      " 2074.28 2099.5  2089.27 2108.1  2104.42 2091.5  2061.05 2056.15 2061.02\n",
      " 2086.24 2067.89 2059.69 2066.96 2080.62 2076.33 2081.9  2091.18 2102.06\n",
      " 2092.43 2095.84 2106.63 2104.99 2081.18 2100.4  2097.29 2112.93 2117.69\n",
      " 2108.92 2114.76 2106.85 2085.51 2108.29 2114.49 2089.46 2080.15 2088.\n",
      " 2116.1  2105.33 2099.12 2098.48 2121.1  2122.73 2129.2  2127.83 2125.85\n",
      " 2130.82 2126.06 2104.2  2123.48 2120.79 2107.39 2111.73 2109.6  2114.07\n",
      " 2095.84 2092.83 2079.28 2080.15 2105.2  2108.86 2094.11 2084.43 2096.29\n",
      " 2100.44 2121.24 2109.99 2122.85 2124.2  2108.58 2102.31 2057.64 2063.11\n",
      " 2077.42 2076.78 2068.76 2081.34 2046.68 2051.31 2076.62 2099.6  2108.95\n",
      " 2107.4  2124.29 2126.64 2128.28 2119.21 2114.15 2102.15 2079.65 2067.64\n",
      " 2093.25 2108.57 2108.63 2103.84 2098.04 2093.32 2099.84 2083.56 2077.57\n",
      " 2104.18 2084.07 2086.05 2083.39 2091.54 2102.44 2096.92 2079.61 2035.73\n",
      " 1970.89 1893.21 1867.61 1940.51 1987.66 1988.87 1972.18 1913.85 1948.86\n",
      " 1951.13 1921.22 1969.41 1942.04 1952.29]\n",
      "[[1638.17     87.26      2.7617]]\n"
     ]
    }
   ],
   "source": [
    "sp5001 = prices[:1]\n",
    "sp500 = np.array(data_port['sp500'])\n",
    "oil = np.array(data_port['crude_oil'])\n",
    "print(sp500)\n",
    "print(sp5001)\n",
    "\n",
    "                         "
   ]
  },
  {
   "cell_type": "markdown",
   "metadata": {},
   "source": [
    " Create a row vector, `pNow`, with the latest price of each security."
   ]
  },
  {
   "cell_type": "code",
   "execution_count": null,
   "metadata": {},
   "outputs": [],
   "source": []
  },
  {
   "cell_type": "markdown",
   "metadata": {},
   "source": [
    " Calculate the number of days `Nt` and the number of assets `Nk`."
   ]
  },
  {
   "cell_type": "code",
   "execution_count": null,
   "metadata": {},
   "outputs": [],
   "source": []
  },
  {
   "cell_type": "markdown",
   "metadata": {},
   "source": [
    " Calculate the matrix of history of returns for the three assets. Calculate both the log-return (`rets_log`) and the level-return (`rets`). The log and level returns are defined as:\n",
    " \n",
    " - log-return, $\\tilde r_t = \\log \\left( \\frac{P_{t+1}}{P_t} \\right)$\n",
    " - level-return, $r_t = \\frac{P_{t+1}}{P_t} - 1$"
   ]
  },
  {
   "cell_type": "code",
   "execution_count": null,
   "metadata": {},
   "outputs": [],
   "source": []
  },
  {
   "cell_type": "markdown",
   "metadata": {},
   "source": [
    "Calculate a matrix of cumulative returns of the assets, named `rets_cum_log` and `rets_cum`. Recall that the cumulative return is simply\n",
    "\n",
    " - log-return, $\\tilde r_{t,t_h} = \\log \\left( \\frac{P_{t+h}}{P_t} \\right)$\n",
    " - level-return, $r_{t,t+h} = \\frac{P_{t+h}}{P_t} - 1$.\n",
    " \n",
    "Note that you may find the Numpy function `numpy.matlib.repmat` helpful here. It allows you to build an array where every row corresponds to $P_t$. You can then use this array in the denominator of array arithmetic and skip any need for coding loops. You could also do this with matrix multiplication involving a vector of 1's."
   ]
  },
  {
   "cell_type": "code",
   "execution_count": null,
   "metadata": {},
   "outputs": [],
   "source": []
  },
  {
   "cell_type": "markdown",
   "metadata": {},
   "source": [
    "# Calculations\n",
    "\n",
    "Simply for practice, let's make the following calculations. For how many days does the S&P500 log-return and level-return differ by more than 5 basis points? That is,\n",
    "$$\n",
    "| \\tilde r_t - r_t | > .0005\n",
    "$$"
   ]
  },
  {
   "cell_type": "code",
   "execution_count": null,
   "metadata": {},
   "outputs": [],
   "source": []
  },
  {
   "cell_type": "markdown",
   "metadata": {},
   "source": [
    "For which asset is there the biggest difference in the total cumulative level-return versus the total cumulative log-return? That is, compute the absolute value of the difference between the log-return and the level-return at each time period. Sum these difference over each time period. Do this for each asset and see for which asset these differences are the largest."
   ]
  },
  {
   "cell_type": "code",
   "execution_count": null,
   "metadata": {},
   "outputs": [],
   "source": []
  },
  {
   "cell_type": "markdown",
   "metadata": {},
   "source": [
    "Suppose an investor puts weights of 50%, 30%, and 20% in the S&P500, oil, and bonds. Calculate the history of portfolio returns, (level-returns). Call this vector `rets_port`."
   ]
  },
  {
   "cell_type": "code",
   "execution_count": null,
   "metadata": {},
   "outputs": [],
   "source": []
  },
  {
   "cell_type": "markdown",
   "metadata": {},
   "source": [
    "What percentage of days does the portfolio have a positive return?"
   ]
  },
  {
   "cell_type": "code",
   "execution_count": null,
   "metadata": {},
   "outputs": [],
   "source": []
  },
  {
   "cell_type": "markdown",
   "metadata": {},
   "source": [
    "Calculate the history of cumulative (level-)returns of the portfolio. Call this `rets_cum_port`. Calculate the cumulative portfolio return by starting with the portfolio return series and using `numpy.cumprod`."
   ]
  },
  {
   "cell_type": "code",
   "execution_count": null,
   "metadata": {},
   "outputs": [],
   "source": []
  },
  {
   "cell_type": "markdown",
   "metadata": {},
   "source": [
    "Calculate the cumulative log-returns of the three separate assets using `numpy.cumsum`."
   ]
  },
  {
   "cell_type": "code",
   "execution_count": null,
   "metadata": {},
   "outputs": [],
   "source": []
  },
  {
   "cell_type": "markdown",
   "metadata": {},
   "source": [
    "# Plots\n",
    "\n",
    "Create a plot of the price history of the S&P 500."
   ]
  },
  {
   "cell_type": "code",
   "execution_count": null,
   "metadata": {},
   "outputs": [],
   "source": []
  },
  {
   "cell_type": "markdown",
   "metadata": {},
   "source": [
    "In a separate figure, create 4 sub-plots of cumulative returns. That is, plot the history of cumulative returns for each of the 3 assets as well as the portfolio. Use pyplot's `subplot` function.\n",
    "\n",
    "You can check here to see Crude Oil prices to verify that this looks correct: http://www.macrotrends.net/1369/crude-oil-price-history-chart"
   ]
  },
  {
   "cell_type": "code",
   "execution_count": null,
   "metadata": {},
   "outputs": [],
   "source": []
  },
  {
   "cell_type": "markdown",
   "metadata": {},
   "source": [
    "Make the same plot as above again. However, this time, make sure that the y-axis is the same on each plot. You can do this the manually using pyplot's `ylim` (note the corresponding `xlim` function) or you can do this the better way using pyplot's shared axis feature seen here: https://matplotlib.org/gallery/subplots_axes_and_figures/shared_axis_demo.html#sphx-glr-gallery-subplots-axes-and-figures-shared-axis-demo-py"
   ]
  },
  {
   "cell_type": "code",
   "execution_count": null,
   "metadata": {},
   "outputs": [],
   "source": []
  },
  {
   "cell_type": "markdown",
   "metadata": {},
   "source": [
    "Finally, create another figure where you plot both the S&P500 cumulative return history as well as the portfolio cumulative return history in the same figure. Give each plot a label and include a legend. To do this, look up the pyplot `legend` function: https://matplotlib.org/api/_as_gen/matplotlib.pyplot.legend.html"
   ]
  },
  {
   "cell_type": "code",
   "execution_count": null,
   "metadata": {},
   "outputs": [],
   "source": []
  },
  {
   "cell_type": "markdown",
   "metadata": {},
   "source": [
    "# Extra\n",
    "\n",
    "- Try plotting the dates against the cumulative returns. Use `plt.plot(x,y)` where `x` is the dates and `y` is the returns data (a `499 x 3` array). For the dates data, use `data_port['dates']` or `data_port.dates`. \n",
    "\n",
    "- Note that it will be helpful to rotate the ticks on the x-axis. You can do this using the function shown here: https://stackoverflow.com/a/37708190/1411791\n",
    "\n",
    "- Add a legend. Specify the legend with `plt.legend(['label1', 'label2', 'label3'])`"
   ]
  },
  {
   "cell_type": "code",
   "execution_count": null,
   "metadata": {},
   "outputs": [],
   "source": []
  },
  {
   "cell_type": "markdown",
   "metadata": {},
   "source": [
    "Try using xlabel, ylabel, title. Search the matplotlib.pyplot help documentation for more."
   ]
  },
  {
   "cell_type": "code",
   "execution_count": null,
   "metadata": {},
   "outputs": [],
   "source": []
  },
  {
   "cell_type": "markdown",
   "metadata": {},
   "source": [
    "Try calculating the basic statistics of the level returns. Get the mean, standard-deviation,\n",
    "skewness, and correlations. Mean, standard deviation, and correlation can be calculated in numpy. The skewness can be calculated using `scipy.stats.skew`"
   ]
  },
  {
   "cell_type": "code",
   "execution_count": null,
   "metadata": {},
   "outputs": [],
   "source": []
  },
  {
   "cell_type": "markdown",
   "metadata": {},
   "source": [
    "The return matrices have one less row than the price matrix. Remedy this by adding a first row of NaN values to the return matrices. Use numpy's `vstack` function."
   ]
  },
  {
   "cell_type": "code",
   "execution_count": null,
   "metadata": {},
   "outputs": [],
   "source": []
  },
  {
   "cell_type": "markdown",
   "metadata": {},
   "source": [
    "Import the `seaborn` package and run `seaborn.set()` to change the default matplotlib style. Regenerate some of the plots above to see how the style changes."
   ]
  },
  {
   "cell_type": "code",
   "execution_count": null,
   "metadata": {},
   "outputs": [],
   "source": []
  }
 ],
 "metadata": {
  "kernelspec": {
   "display_name": "Python 3",
   "language": "python",
   "name": "python3"
  },
  "language_info": {
   "codemirror_mode": {
    "name": "ipython",
    "version": 3
   },
   "file_extension": ".py",
   "mimetype": "text/x-python",
   "name": "python",
   "nbconvert_exporter": "python",
   "pygments_lexer": "ipython3",
   "version": "3.6.4"
  },
  "varInspector": {
   "cols": {
    "lenName": 16,
    "lenType": 16,
    "lenVar": 40
   },
   "kernels_config": {
    "python": {
     "delete_cmd_postfix": "",
     "delete_cmd_prefix": "del ",
     "library": "var_list.py",
     "varRefreshCmd": "print(var_dic_list())"
    },
    "r": {
     "delete_cmd_postfix": ") ",
     "delete_cmd_prefix": "rm(",
     "library": "var_list.r",
     "varRefreshCmd": "cat(var_dic_list()) "
    }
   },
   "types_to_exclude": [
    "module",
    "function",
    "builtin_function_or_method",
    "instance",
    "_Feature"
   ],
   "window_display": false
  }
 },
 "nbformat": 4,
 "nbformat_minor": 2
}
